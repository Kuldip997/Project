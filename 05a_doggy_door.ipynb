{
 "cells": [
  {
   "cell_type": "code",
   "execution_count": 3,
   "id": "f5df5d9e-3442-4822-b1b5-d929ae946f15",
   "metadata": {},
   "outputs": [],
   "source": [
    "import os\n",
    "import pandas as pd\n",
    "from PIL import Image\n",
    "import torch\n",
    "from torch.utils.data import Dataset, DataLoader, random_split\n",
    "from torchvision import transforms\n",
    "from sklearn.model_selection import train_test_split\n",
    "\n",
    "from utils import encode_labels  # from your utils.py\n"
   ]
  },
  {
   "cell_type": "code",
   "execution_count": 4,
   "id": "eb820377-c578-4b0e-9e12-1cec66ab15c3",
   "metadata": {},
   "outputs": [
    {
     "name": "stdout",
     "output_type": "stream",
     "text": [
      "Total images: 10222\n",
      "Number of unique breeds: 120\n"
     ]
    }
   ],
   "source": [
    "labels_df = pd.read_csv(\"labels.csv\")  # path to your CSV\n",
    "print(\"Total images:\", len(labels_df))\n",
    "\n",
    "# Encode breed labels into integers\n",
    "labels_df['breed_encoded'], label_encoder = encode_labels(labels_df['breed'])\n",
    "num_classes = len(label_encoder.classes_)\n",
    "print(\"Number of unique breeds:\", num_classes)\n"
   ]
  },
  {
   "cell_type": "code",
   "execution_count": 5,
   "id": "ec22afdb-445c-4bcf-99cd-3edf8a26dff7",
   "metadata": {},
   "outputs": [],
   "source": [
    "class DogBreedDataset(Dataset):\n",
    "    def __init__(self, dataframe, image_dir, transform=None):\n",
    "        self.dataframe = dataframe\n",
    "        self.image_dir = image_dir\n",
    "        self.transform = transform\n",
    "\n",
    "    def __len__(self):\n",
    "        return len(self.dataframe)\n",
    "\n",
    "    def __getitem__(self, idx):\n",
    "        img_id = self.dataframe.iloc[idx]['id']\n",
    "        breed = self.dataframe.iloc[idx]['breed_encoded']\n",
    "        img_path = os.path.join(self.image_dir, f\"{img_id}.jpg\")\n",
    "        image = Image.open(img_path).convert(\"RGB\")\n",
    "\n",
    "        if self.transform:\n",
    "            image = self.transform(image)\n",
    "        return image, torch.tensor(breed)\n"
   ]
  },
  {
   "cell_type": "code",
   "execution_count": 6,
   "id": "ce7aea6d-4ab1-4e19-854b-89128ededfec",
   "metadata": {},
   "outputs": [],
   "source": [
    "transform = transforms.Compose([\n",
    "    transforms.Resize((224, 224)),\n",
    "    transforms.ToTensor(),\n",
    "    transforms.Normalize(mean=[0.5]*3, std=[0.5]*3)\n",
    "])\n"
   ]
  },
  {
   "cell_type": "code",
   "execution_count": 7,
   "id": "a2435642-687b-4f6d-8373-4d36d56d563a",
   "metadata": {},
   "outputs": [
    {
     "name": "stdout",
     "output_type": "stream",
     "text": [
      "Train samples: 8177\n",
      "Val samples: 2045\n"
     ]
    }
   ],
   "source": [
    "train_df, val_df = train_test_split(labels_df, test_size=0.2, stratify=labels_df['breed_encoded'], random_state=42)\n",
    "\n",
    "train_dataset = DogBreedDataset(train_df, \"train\", transform=transform)\n",
    "val_dataset = DogBreedDataset(val_df, \"train\", transform=transform)\n",
    "\n",
    "train_loader = DataLoader(train_dataset, batch_size=32, shuffle=True)\n",
    "val_loader = DataLoader(val_dataset, batch_size=32, shuffle=False)\n",
    "\n",
    "print(\"Train samples:\", len(train_dataset))\n",
    "print(\"Val samples:\", len(val_dataset))\n"
   ]
  },
  {
   "cell_type": "code",
   "execution_count": null,
   "id": "41881b28-3a48-4762-88c6-ce03ed144043",
   "metadata": {},
   "outputs": [],
   "source": []
  }
 ],
 "metadata": {
  "kernelspec": {
   "display_name": "Python 3 (ipykernel)",
   "language": "python",
   "name": "python3"
  },
  "language_info": {
   "codemirror_mode": {
    "name": "ipython",
    "version": 3
   },
   "file_extension": ".py",
   "mimetype": "text/x-python",
   "name": "python",
   "nbconvert_exporter": "python",
   "pygments_lexer": "ipython3",
   "version": "3.11.5"
  }
 },
 "nbformat": 4,
 "nbformat_minor": 5
}
